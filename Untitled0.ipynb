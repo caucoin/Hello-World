{
  "nbformat": 4,
  "nbformat_minor": 0,
  "metadata": {
    "colab": {
      "name": "Untitled0.ipynb",
      "provenance": [],
      "collapsed_sections": [],
      "authorship_tag": "ABX9TyO7EhKM6GU7ivQyDIS1Y39p",
      "include_colab_link": true
    },
    "kernelspec": {
      "name": "python3",
      "display_name": "Python 3"
    }
  },
  "cells": [
    {
      "cell_type": "markdown",
      "metadata": {
        "id": "view-in-github",
        "colab_type": "text"
      },
      "source": [
        "<a href=\"https://colab.research.google.com/github/caucoin/Hello-World/blob/main/Untitled0.ipynb\" target=\"_parent\"><img src=\"https://colab.research.google.com/assets/colab-badge.svg\" alt=\"Open In Colab\"/></a>"
      ]
    },
    {
      "cell_type": "code",
      "metadata": {
        "colab": {
          "base_uri": "https://localhost:8080/"
        },
        "id": "ESRZ_tCbGa0y",
        "outputId": "acd11674-b621-4f0a-c83f-3d2f343b5cc1"
      },
      "source": [
        "mylist = [10,20,30,40,50]\r\n",
        "min(mylist)\r\n",
        "max(mylist)\r\n",
        "\r\n",
        "\r\n",
        "\r\n",
        "\r\n"
      ],
      "execution_count": 7,
      "outputs": [
        {
          "output_type": "execute_result",
          "data": {
            "text/plain": [
              "50"
            ]
          },
          "metadata": {
            "tags": []
          },
          "execution_count": 7
        }
      ]
    },
    {
      "cell_type": "code",
      "metadata": {
        "colab": {
          "base_uri": "https://localhost:8080/"
        },
        "id": "6p6pM01wHKWB",
        "outputId": "e711dd28-fe51-49f0-b4ba-a577065e9c1b"
      },
      "source": [
        "from random import randint\r\n",
        "randint(0,100)\r\n",
        "\r\n"
      ],
      "execution_count": 9,
      "outputs": [
        {
          "output_type": "execute_result",
          "data": {
            "text/plain": [
              "17"
            ]
          },
          "metadata": {
            "tags": []
          },
          "execution_count": 9
        }
      ]
    },
    {
      "cell_type": "code",
      "metadata": {
        "colab": {
          "base_uri": "https://localhost:8080/",
          "height": 35
        },
        "id": "b3-G-Vy6JK86",
        "outputId": "c7edd1a9-eeae-4ece-d4e6-699799e6135f"
      },
      "source": [
        "mystring = 'hello world'\r\n",
        "mystring\r\n"
      ],
      "execution_count": 18,
      "outputs": [
        {
          "output_type": "execute_result",
          "data": {
            "application/vnd.google.colaboratory.intrinsic+json": {
              "type": "string"
            },
            "text/plain": [
              "'hello world'"
            ]
          },
          "metadata": {
            "tags": []
          },
          "execution_count": 18
        }
      ]
    },
    {
      "cell_type": "code",
      "metadata": {
        "id": "7Cre-5zmKH6_"
      },
      "source": [
        "mystring = 'hello'\r\n",
        "mylist = []\r\n",
        "for letter in mystring:\r\n",
        "     mylist.append(letter)\r\n",
        "\r\n",
        "\r\n",
        "\r\n",
        "\r\n"
      ],
      "execution_count": 62,
      "outputs": []
    },
    {
      "cell_type": "code",
      "metadata": {
        "colab": {
          "base_uri": "https://localhost:8080/"
        },
        "id": "7AXKxO43Ouhd",
        "outputId": "4ea1dc17-de5e-4273-b6aa-41fca964f268"
      },
      "source": [
        "mylist\r\n",
        "\r\n"
      ],
      "execution_count": 63,
      "outputs": [
        {
          "output_type": "execute_result",
          "data": {
            "text/plain": [
              "['h', 'e', 'l', 'l', 'o']"
            ]
          },
          "metadata": {
            "tags": []
          },
          "execution_count": 63
        }
      ]
    },
    {
      "cell_type": "code",
      "metadata": {
        "colab": {
          "base_uri": "https://localhost:8080/"
        },
        "id": "M2BNUSBFTg1j",
        "outputId": "9f7b52af-6990-43aa-a6f5-038cd8af6d1a"
      },
      "source": [
        "celcius = (10, 20, 30, 40)\r\n",
        "fahrenheit = [(9/5)*temp +32 for temp in celcius]\r\n",
        "fahrenheit"
      ],
      "execution_count": 67,
      "outputs": [
        {
          "output_type": "execute_result",
          "data": {
            "text/plain": [
              "[50.0, 68.0, 86.0, 104.0]"
            ]
          },
          "metadata": {
            "tags": []
          },
          "execution_count": 67
        }
      ]
    },
    {
      "cell_type": "code",
      "metadata": {
        "colab": {
          "base_uri": "https://localhost:8080/"
        },
        "id": "CmJBHSaqUqF9",
        "outputId": "b610e6c9-425a-4595-ab4b-fa2b29986d6d"
      },
      "source": [
        "mygrowth = (186000, 556000, 1900000)\r\n",
        "revenueforecast = [2* temp for temp in mygrowth]\r\n",
        "revenueforecast"
      ],
      "execution_count": 77,
      "outputs": [
        {
          "output_type": "execute_result",
          "data": {
            "text/plain": [
              "[372000, 1112000, 3800000]"
            ]
          },
          "metadata": {
            "tags": []
          },
          "execution_count": 77
        }
      ]
    },
    {
      "cell_type": "code",
      "metadata": {
        "id": "5cX1vdfbW0mc"
      },
      "source": [
        "mylist = []\r\n",
        "for x in [2,4,6]:\r\n",
        "  for y in [200,400,600]:\r\n",
        "    mylist.append(x*y)  \r\n",
        "    \r\n"
      ],
      "execution_count": 86,
      "outputs": []
    },
    {
      "cell_type": "code",
      "metadata": {
        "colab": {
          "base_uri": "https://localhost:8080/"
        },
        "id": "GpagGS2LXu8x",
        "outputId": "8af3d756-070e-4273-f97d-69ec48667ccc"
      },
      "source": [
        "mylist"
      ],
      "execution_count": 87,
      "outputs": [
        {
          "output_type": "execute_result",
          "data": {
            "text/plain": [
              "[400, 800, 1200, 800, 1600, 2400, 1200, 2400, 3600]"
            ]
          },
          "metadata": {
            "tags": []
          },
          "execution_count": 87
        }
      ]
    },
    {
      "cell_type": "code",
      "metadata": {
        "colab": {
          "base_uri": "https://localhost:8080/",
          "height": 128
        },
        "id": "lsIC9re9Y00C",
        "outputId": "2196a720-08c9-4c81-f78f-1ded157d9fe2"
      },
      "source": [
        "mylist = []\r\n",
        "yield[2000*2]\r\n",
        "mylist"
      ],
      "execution_count": 92,
      "outputs": [
        {
          "output_type": "error",
          "ename": "SyntaxError",
          "evalue": "ignored",
          "traceback": [
            "\u001b[0;36m  File \u001b[0;32m\"<ipython-input-92-1afed997116d>\"\u001b[0;36m, line \u001b[0;32m2\u001b[0m\n\u001b[0;31m    yield[2000*2]\u001b[0m\n\u001b[0m                 ^\u001b[0m\n\u001b[0;31mSyntaxError\u001b[0m\u001b[0;31m:\u001b[0m 'yield' outside function\n"
          ]
        }
      ]
    },
    {
      "cell_type": "code",
      "metadata": {
        "colab": {
          "base_uri": "https://localhost:8080/"
        },
        "id": "DCFGOSL_czSW",
        "outputId": "65c60c70-6fa0-4950-e3b2-5af15768cd68"
      },
      "source": [
        "print('hello world')\r\n"
      ],
      "execution_count": 94,
      "outputs": [
        {
          "output_type": "stream",
          "text": [
            "hello world\n"
          ],
          "name": "stdout"
        }
      ]
    },
    {
      "cell_type": "code",
      "metadata": {
        "colab": {
          "base_uri": "https://localhost:8080/"
        },
        "id": "ug4KPMnpjlq7",
        "outputId": "53f10164-a375-4930-9482-4eb045e1396d"
      },
      "source": [
        "stock_prices = [('APPL', 200), ('GOOG', 400), ('TSLA', 900)]\r\n",
        "for item in stock_prices:\r\n",
        "  print(item)"
      ],
      "execution_count": 102,
      "outputs": [
        {
          "output_type": "stream",
          "text": [
            "('APPL', 200)\n",
            "('GOOG', 400)\n",
            "('TSLA', 900)\n"
          ],
          "name": "stdout"
        }
      ]
    },
    {
      "cell_type": "code",
      "metadata": {
        "colab": {
          "base_uri": "https://localhost:8080/"
        },
        "id": "5A44-qgUpQCH",
        "outputId": "3327fea8-e1d9-4a2a-93eb-0198cdec2dc7"
      },
      "source": [
        "work_hours = [('abby', 200), ('Conor', 600), ('Sally', 500)]\r\n",
        "for item in work_hours:\r\n",
        "  print(item)\r\n"
      ],
      "execution_count": 117,
      "outputs": [
        {
          "output_type": "stream",
          "text": [
            "('abby', 200)\n",
            "('Conor', 600)\n",
            "('Sally', 500)\n"
          ],
          "name": "stdout"
        }
      ]
    },
    {
      "cell_type": "code",
      "metadata": {
        "colab": {
          "base_uri": "https://localhost:8080/"
        },
        "id": "jUtt9iqyqAlA",
        "outputId": "29a223b2-3acf-4f1d-93c6-20ab4590a3cf"
      },
      "source": [
        "def employee_check(work_hours):\r\n",
        "  current_max = 200\r\n",
        "  employee_month = ''\r\n",
        "\r\n",
        "  for employee, hours in work_hours:\r\n",
        "    if hours > current_max:\r\n",
        "      current_max = hours\r\n",
        "      employee_month = employee\r\n",
        "\r\n",
        "    else:\r\n",
        "      pass\r\n",
        "# Return\r\n",
        "  return (employee_month, current_max)\r\n",
        "employee_check(work_hours)"
      ],
      "execution_count": 140,
      "outputs": [
        {
          "output_type": "execute_result",
          "data": {
            "text/plain": [
              "('Conor', 600)"
            ]
          },
          "metadata": {
            "tags": []
          },
          "execution_count": 140
        }
      ]
    },
    {
      "cell_type": "code",
      "metadata": {
        "colab": {
          "base_uri": "https://localhost:8080/"
        },
        "id": "6OfaGUzhuSZy",
        "outputId": "5661ef88-d033-4872-cce1-9e932f095c05"
      },
      "source": [
        "example = [1,2,3,4,5,6,7]\r\n",
        "from random import shuffle\r\n",
        "shuffle (example)\r\n",
        "example"
      ],
      "execution_count": 145,
      "outputs": [
        {
          "output_type": "execute_result",
          "data": {
            "text/plain": [
              "[3, 2, 5, 1, 4, 7, 6]"
            ]
          },
          "metadata": {
            "tags": []
          },
          "execution_count": 145
        }
      ]
    },
    {
      "cell_type": "code",
      "metadata": {
        "id": "4AdNPtE81Vye"
      },
      "source": [
        "def myfunc(*args):\r\n",
        "  print(args)"
      ],
      "execution_count": 153,
      "outputs": []
    }
  ]
}